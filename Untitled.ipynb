{
 "cells": [
  {
   "cell_type": "code",
   "execution_count": 1,
   "metadata": {
    "collapsed": true
   },
   "outputs": [],
   "source": [
    "import pandas as pd\n",
    "from bokeh.plotting import figure\n",
    "from bokeh.io import show, output_notebook"
   ]
  },
  {
   "cell_type": "markdown",
   "metadata": {},
   "source": [
    "** Data Exploration **"
   ]
  },
  {
   "cell_type": "code",
   "execution_count": 2,
   "metadata": {
    "collapsed": true
   },
   "outputs": [],
   "source": [
    "data = pd.read_csv('raw_data.csv')"
   ]
  },
  {
   "cell_type": "code",
   "execution_count": 12,
   "metadata": {},
   "outputs": [
    {
     "data": {
      "text/html": [
       "<div>\n",
       "<style scoped>\n",
       "    .dataframe tbody tr th:only-of-type {\n",
       "        vertical-align: middle;\n",
       "    }\n",
       "\n",
       "    .dataframe tbody tr th {\n",
       "        vertical-align: top;\n",
       "    }\n",
       "\n",
       "    .dataframe thead th {\n",
       "        text-align: right;\n",
       "    }\n",
       "</style>\n",
       "<table border=\"1\" class=\"dataframe\">\n",
       "  <thead>\n",
       "    <tr style=\"text-align: right;\">\n",
       "      <th></th>\n",
       "      <th>order delivery time</th>\n",
       "      <th>order id</th>\n",
       "      <th>customer order rating</th>\n",
       "      <th>type of issue reported</th>\n",
       "      <th>region</th>\n",
       "    </tr>\n",
       "  </thead>\n",
       "  <tbody>\n",
       "    <tr>\n",
       "      <th>0</th>\n",
       "      <td>2014-06-02 04:23:16 UTC</td>\n",
       "      <td>233599337</td>\n",
       "      <td>5</td>\n",
       "      <td>NaN</td>\n",
       "      <td>chi</td>\n",
       "    </tr>\n",
       "    <tr>\n",
       "      <th>1</th>\n",
       "      <td>2014-06-02 03:57:50 UTC</td>\n",
       "      <td>233599376</td>\n",
       "      <td>5</td>\n",
       "      <td>NaN</td>\n",
       "      <td>chi</td>\n",
       "    </tr>\n",
       "    <tr>\n",
       "      <th>2</th>\n",
       "      <td>2014-06-02 02:52:38 UTC</td>\n",
       "      <td>233599328</td>\n",
       "      <td>5</td>\n",
       "      <td>NaN</td>\n",
       "      <td>chi</td>\n",
       "    </tr>\n",
       "    <tr>\n",
       "      <th>3</th>\n",
       "      <td>2014-06-02 02:52:04 UTC</td>\n",
       "      <td>233599070</td>\n",
       "      <td>5</td>\n",
       "      <td>NaN</td>\n",
       "      <td>chi</td>\n",
       "    </tr>\n",
       "    <tr>\n",
       "      <th>4</th>\n",
       "      <td>2014-06-02 02:41:43 UTC</td>\n",
       "      <td>233599100</td>\n",
       "      <td>5</td>\n",
       "      <td>NaN</td>\n",
       "      <td>chi</td>\n",
       "    </tr>\n",
       "  </tbody>\n",
       "</table>\n",
       "</div>"
      ],
      "text/plain": [
       "       order delivery time   order id  customer order rating  \\\n",
       "0  2014-06-02 04:23:16 UTC  233599337                      5   \n",
       "1  2014-06-02 03:57:50 UTC  233599376                      5   \n",
       "2  2014-06-02 02:52:38 UTC  233599328                      5   \n",
       "3  2014-06-02 02:52:04 UTC  233599070                      5   \n",
       "4  2014-06-02 02:41:43 UTC  233599100                      5   \n",
       "\n",
       "  type of issue reported region  \n",
       "0                    NaN    chi  \n",
       "1                    NaN    chi  \n",
       "2                    NaN    chi  \n",
       "3                    NaN    chi  \n",
       "4                    NaN    chi  "
      ]
     },
     "execution_count": 12,
     "metadata": {},
     "output_type": "execute_result"
    }
   ],
   "source": [
    "data.head()"
   ]
  },
  {
   "cell_type": "code",
   "execution_count": 11,
   "metadata": {},
   "outputs": [
    {
     "name": "stdout",
     "output_type": "stream",
     "text": [
      "Minimum order delivery time: 2014-05-01 08:54:00 +0000\n",
      "Maximum order delivery time: 2014-06-02 06:28:37 +0000\n"
     ]
    }
   ],
   "source": [
    "# include 33 days of delivery data, 4 full weeks, 5 weekends\n",
    "print('Minimum order delivery time: %s' %str(data['order delivery time'].min()))\n",
    "print('Maximum order delivery time: %s' %str(data['order delivery time'].max()))"
   ]
  },
  {
   "cell_type": "code",
   "execution_count": 14,
   "metadata": {},
   "outputs": [
    {
     "name": "stdout",
     "output_type": "stream",
     "text": [
      "['Wrong item' 'Item charged incorrectly' 'Damaged or spoiled'\n",
      " 'Item missing' 'Other Order Issue' 'Poor service' 'Poor replacement']\n"
     ]
    }
   ],
   "source": [
    "# Types of issue reported\n",
    "print(data['type of issue reported'].dropna().unique())"
   ]
  },
  {
   "cell_type": "code",
   "execution_count": 15,
   "metadata": {},
   "outputs": [
    {
     "data": {
      "text/plain": [
       "Counter({'Damaged or spoiled': 310,\n",
       "         'Item charged incorrectly': 21,\n",
       "         'Item missing': 178,\n",
       "         'Null': 13870,\n",
       "         'Other Order Issue': 21,\n",
       "         'Poor replacement': 54,\n",
       "         'Poor service': 129,\n",
       "         'Wrong item': 374})"
      ]
     },
     "execution_count": 15,
     "metadata": {},
     "output_type": "execute_result"
    }
   ],
   "source": [
    "from collections import Counter\n",
    "Counter(data['type of issue reported'].fillna('Null'))"
   ]
  },
  {
   "cell_type": "code",
   "execution_count": 19,
   "metadata": {},
   "outputs": [
    {
     "data": {
      "text/plain": [
       "'unique order id 13845, total rows 14957'"
      ]
     },
     "execution_count": 19,
     "metadata": {},
     "output_type": "execute_result"
    }
   ],
   "source": [
    "# check uniqueness of order id\n",
    "'unique order id %d, total rows %d' %(len(data['order id'].unique()), len(data))"
   ]
  },
  {
   "cell_type": "code",
   "execution_count": null,
   "metadata": {
    "collapsed": true
   },
   "outputs": [],
   "source": [
    "data.groupby([''])"
   ]
  },
  {
   "cell_type": "code",
   "execution_count": null,
   "metadata": {
    "collapsed": true
   },
   "outputs": [],
   "source": []
  }
 ],
 "metadata": {
  "kernelspec": {
   "display_name": "Python 2.7",
   "language": "python",
   "name": "py27"
  },
  "language_info": {
   "codemirror_mode": {
    "name": "ipython",
    "version": 2
   },
   "file_extension": ".py",
   "mimetype": "text/x-python",
   "name": "python",
   "nbconvert_exporter": "python",
   "pygments_lexer": "ipython2",
   "version": "2.7.11"
  },
  "toc": {
   "colors": {
    "hover_highlight": "#DAA520",
    "running_highlight": "#FF0000",
    "selected_highlight": "#FFD700"
   },
   "moveMenuLeft": true,
   "nav_menu": {
    "height": "12px",
    "width": "252px"
   },
   "navigate_menu": true,
   "number_sections": true,
   "sideBar": true,
   "threshold": 4,
   "toc_cell": false,
   "toc_section_display": "block",
   "toc_window_display": false,
   "widenNotebook": false
  }
 },
 "nbformat": 4,
 "nbformat_minor": 2
}

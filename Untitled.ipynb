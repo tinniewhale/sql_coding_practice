{
 "cells": [
  {
   "cell_type": "markdown",
   "metadata": {},
   "source": [
    "# Task Description\n",
    "1. Both the training and testing data sets have the same schema.<br/>\n",
    "2. The first column is the binary target - 0 or 1. The rest of columns are variables<br/>\n",
    "3. Do not assume data is clean. Please include basic sanity checks on data.<br/>\n",
    "4. Use the training data set to build the best linear and non-linear classification model.<br/>\n",
    "5. Use the testing data set to evaluate model performance.  Use appropriate metrics.<br/>\n",
    "6. Rank order variables in terms of importance and provide your reasoning. <br/>"
   ]
  },
  {
   "cell_type": "code",
   "execution_count": 65,
   "metadata": {
    "collapsed": true
   },
   "outputs": [],
   "source": [
    "from string import ascii_letters\n",
    "import numpy as np\n",
    "import pandas as pd\n",
    "import seaborn as sns\n",
    "import matplotlib.pyplot as plt\n",
    "from sklearn.cross_validation import train_test_split\n",
    "from collections import Counter\n",
    "%matplotlib inline"
   ]
  },
  {
   "cell_type": "code",
   "execution_count": 60,
   "metadata": {},
   "outputs": [
    {
     "name": "stdout",
     "output_type": "stream",
     "text": [
      "train data size:  (27914, 100) \n",
      "test data size: (13834, 97)\n"
     ]
    }
   ],
   "source": [
    "data = pd.read_csv('interview_data_train.csv', header=None)\n",
    "test = pd.read_csv('interview_data_test.csv', header=None)\n",
    "print('train data size: ', train_eval.shape, '\\ntest data size:', test.shape)"
   ]
  },
  {
   "cell_type": "code",
   "execution_count": 61,
   "metadata": {},
   "outputs": [
    {
     "name": "stdout",
     "output_type": "stream",
     "text": [
      "train: []\n",
      "test: []\n"
     ]
    }
   ],
   "source": [
    "# check if there are any columns with missing data\n",
    "# return a list of [columns, # missing data]\n",
    "print('train:', [[idx,i] for idx, i in enumerate(data.isnull().sum().tolist()) if i > 0])\n",
    "print('test:', [[idx,i] for idx, i in enumerate(test.isnull().sum().tolist()) if i > 0])"
   ]
  },
  {
   "cell_type": "code",
   "execution_count": 81,
   "metadata": {},
   "outputs": [
    {
     "data": {
      "text/plain": [
       "Counter({0: 19706, 1: 8208})"
      ]
     },
     "execution_count": 81,
     "metadata": {},
     "output_type": "execute_result"
    }
   ],
   "source": [
    "X = data.drop(0, axis=1)\n",
    "y = data[0]\n",
    "X_test = test.drop(0, axis=1)\n",
    "y_test = test[0]\n",
    "# check if the two classes are extramely inbalance\n",
    "Counter(y)"
   ]
  },
  {
   "cell_type": "code",
   "execution_count": 83,
   "metadata": {
    "scrolled": true
   },
   "outputs": [],
   "source": [
    "(X_train, X_eval, y_train, y_eval) = train_test_split(X, y, test_size=0.25, random_state=42)"
   ]
  },
  {
   "cell_type": "code",
   "execution_count": null,
   "metadata": {
    "collapsed": true
   },
   "outputs": [],
   "source": [
    "sns.catplot(x=\"class\", hue=\"who\", col=\"survived\",\\\n",
    "            data=titanic, kind=\"count\", height=4, aspect=.7)"
   ]
  },
  {
   "cell_type": "code",
   "execution_count": 64,
   "metadata": {},
   "outputs": [
    {
     "data": {
      "text/plain": [
       "<matplotlib.axes._subplots.AxesSubplot at 0x836461a978>"
      ]
     },
     "execution_count": 64,
     "metadata": {},
     "output_type": "execute_result"
    },
    {
     "data": {
      "image/png": "[encoded data removed]",
      "text/plain": [
       "<matplotlib.figure.Figure at 0x8364610390>"
      ]
     },
     "metadata": {},
     "output_type": "display_data"
    }
   ],
   "source": [
    "sns.countplot(x=1, data=data)"
   ]
  },
  {
   "cell_type": "code",
   "execution_count": 84,
   "metadata": {},
   "outputs": [
    {
     "name": "stdout",
     "output_type": "stream",
     "text": [
      "[ 0.49505552  0.1619436   0.11894003  0.04567418  0.03556767  0.02967452\n",
      "  0.02053943  0.01534004  0.01171328  0.01035961  0.00907346]\n"
     ]
    },
    {
     "data": {
      "text/html": [
       "<div>\n",
       "<style>\n",
       "    .dataframe thead tr:only-child th {\n",
       "        text-align: right;\n",
       "    }\n",
       "\n",
       "    .dataframe thead th {\n",
       "        text-align: left;\n",
       "    }\n",
       "\n",
       "    .dataframe tbody tr th {\n",
       "        vertical-align: top;\n",
       "    }\n",
       "</style>\n",
       "<table border=\"1\" class=\"dataframe\">\n",
       "  <thead>\n",
       "    <tr style=\"text-align: right;\">\n",
       "      <th></th>\n",
       "      <th>0</th>\n",
       "      <th>1</th>\n",
       "      <th>2</th>\n",
       "      <th>3</th>\n",
       "      <th>4</th>\n",
       "      <th>5</th>\n",
       "      <th>6</th>\n",
       "      <th>7</th>\n",
       "      <th>8</th>\n",
       "      <th>9</th>\n",
       "      <th>10</th>\n",
       "    </tr>\n",
       "  </thead>\n",
       "  <tbody>\n",
       "    <tr>\n",
       "      <th>0</th>\n",
       "      <td>-4.787511</td>\n",
       "      <td>1.491302</td>\n",
       "      <td>1.675874</td>\n",
       "      <td>-1.061511</td>\n",
       "      <td>0.277234</td>\n",
       "      <td>-0.172941</td>\n",
       "      <td>-0.153500</td>\n",
       "      <td>-0.379502</td>\n",
       "      <td>-0.193298</td>\n",
       "      <td>-0.052621</td>\n",
       "      <td>0.103607</td>\n",
       "    </tr>\n",
       "    <tr>\n",
       "      <th>1</th>\n",
       "      <td>4.576956</td>\n",
       "      <td>4.119220</td>\n",
       "      <td>2.601709</td>\n",
       "      <td>-0.482630</td>\n",
       "      <td>-0.362508</td>\n",
       "      <td>-0.375472</td>\n",
       "      <td>-0.835925</td>\n",
       "      <td>-1.993830</td>\n",
       "      <td>0.743989</td>\n",
       "      <td>1.061239</td>\n",
       "      <td>0.245105</td>\n",
       "    </tr>\n",
       "    <tr>\n",
       "      <th>2</th>\n",
       "      <td>1.555035</td>\n",
       "      <td>-1.293556</td>\n",
       "      <td>0.583284</td>\n",
       "      <td>-0.672595</td>\n",
       "      <td>-0.710701</td>\n",
       "      <td>0.603882</td>\n",
       "      <td>-0.258219</td>\n",
       "      <td>0.154658</td>\n",
       "      <td>0.061179</td>\n",
       "      <td>0.017708</td>\n",
       "      <td>0.014543</td>\n",
       "    </tr>\n",
       "    <tr>\n",
       "      <th>3</th>\n",
       "      <td>1.647309</td>\n",
       "      <td>-1.588592</td>\n",
       "      <td>1.384009</td>\n",
       "      <td>0.541739</td>\n",
       "      <td>1.039583</td>\n",
       "      <td>0.306006</td>\n",
       "      <td>-0.141074</td>\n",
       "      <td>0.049211</td>\n",
       "      <td>-0.048081</td>\n",
       "      <td>0.004117</td>\n",
       "      <td>0.045975</td>\n",
       "    </tr>\n",
       "    <tr>\n",
       "      <th>4</th>\n",
       "      <td>-0.010841</td>\n",
       "      <td>0.358562</td>\n",
       "      <td>-1.695312</td>\n",
       "      <td>-0.274770</td>\n",
       "      <td>0.184894</td>\n",
       "      <td>0.163214</td>\n",
       "      <td>0.725537</td>\n",
       "      <td>-0.282968</td>\n",
       "      <td>-0.190945</td>\n",
       "      <td>0.248480</td>\n",
       "      <td>-0.338551</td>\n",
       "    </tr>\n",
       "  </tbody>\n",
       "</table>\n",
       "</div>"
      ],
      "text/plain": [
       "         0         1         2         3         4         5         6   \\\n",
       "0 -4.787511  1.491302  1.675874 -1.061511  0.277234 -0.172941 -0.153500   \n",
       "1  4.576956  4.119220  2.601709 -0.482630 -0.362508 -0.375472 -0.835925   \n",
       "2  1.555035 -1.293556  0.583284 -0.672595 -0.710701  0.603882 -0.258219   \n",
       "3  1.647309 -1.588592  1.384009  0.541739  1.039583  0.306006 -0.141074   \n",
       "4 -0.010841  0.358562 -1.695312 -0.274770  0.184894  0.163214  0.725537   \n",
       "\n",
       "         7         8         9         10  \n",
       "0 -0.379502 -0.193298 -0.052621  0.103607  \n",
       "1 -1.993830  0.743989  1.061239  0.245105  \n",
       "2  0.154658  0.061179  0.017708  0.014543  \n",
       "3  0.049211 -0.048081  0.004117  0.045975  \n",
       "4 -0.282968 -0.190945  0.248480 -0.338551  "
      ]
     },
     "execution_count": 84,
     "metadata": {},
     "output_type": "execute_result"
    }
   ],
   "source": [
    "from sklearn.decomposition import PCA\n",
    "pca = PCA(n_components=0.95)\n",
    "X_train_reduced = pca.fit_transform(X_train)\n",
    "X_eval_reduced = pca.transform(X_eval)\n",
    "print(pca.explained_variance_ratio_)\n",
    "pd.DataFrame(X_train_reduced).head()"
   ]
  },
  {
   "cell_type": "code",
   "execution_count": 80,
   "metadata": {},
   "outputs": [
    {
     "data": {
      "text/plain": [
       "[<matplotlib.lines.Line2D at 0x8365cc0240>]"
      ]
     },
     "execution_count": 80,
     "metadata": {},
     "output_type": "execute_result"
    },
    {
     "data": {
      "image/png": "[encoded data removed]",
      "text/plain": [
       "<matplotlib.figure.Figure at 0x8364729860>"
      ]
     },
     "metadata": {},
     "output_type": "display_data"
    }
   ],
   "source": [
    "from matplotlib.ticker import MaxNLocator\n",
    "cumsum = np.cumsum(pca.explained_variance_ratio_)\n",
    "ax = plt.figure().gca()\n",
    "ax.xaxis.set_major_locator(MaxNLocator(integer=True))\n",
    "plt.plot(cumsum[:20])"
   ]
  },
  {
   "cell_type": "code",
   "execution_count": 54,
   "metadata": {},
   "outputs": [],
   "source": [
    "# for i in train_eval.columns:\n",
    "#     print(i, len(train_eval[i].unique()))"
   ]
  },
  {
   "cell_type": "code",
   "execution_count": 88,
   "metadata": {},
   "outputs": [],
   "source": [
    "from sklearn.svm import LinearSVC\n",
    "from sklearn.ensemble import RandomForestClassifier\n",
    "from sklearn.metrics import classification_report"
   ]
  },
  {
   "cell_type": "code",
   "execution_count": 92,
   "metadata": {},
   "outputs": [
    {
     "name": "stdout",
     "output_type": "stream",
     "text": [
      "[INFO] training Linear SVM classifier...\n",
      "[INFO] evaluating classifier...\n",
      "             precision    recall  f1-score   support\n",
      "\n",
      "          0       0.79      0.92      0.85      4923\n",
      "          1       0.67      0.40      0.50      2056\n",
      "\n",
      "avg / total       0.75      0.77      0.75      6979\n",
      "\n"
     ]
    }
   ],
   "source": [
    "# train the linear regression clasifier\n",
    "print(\"[INFO] training Linear SVM classifier...\")\n",
    "model = LinearSVC()\n",
    "model.fit(X_train_reduced, y_train)\n",
    " \n",
    "# evaluate the classifier\n",
    "print(\"[INFO] evaluating classifier...\")\n",
    "predictions = model.predict(X_eval_reduced)\n",
    "print(classification_report(y_eval, predictions))"
   ]
  },
  {
   "cell_type": "code",
   "execution_count": 116,
   "metadata": {},
   "outputs": [
    {
     "name": "stdout",
     "output_type": "stream",
     "text": [
      "[INFO] training Linear SVM classifier...\n",
      "[INFO] evaluating classifier...\n",
      "             precision    recall  f1-score   support\n",
      "\n",
      "          0       0.79      0.88      0.83      4923\n",
      "          1       0.60      0.43      0.50      2056\n",
      "\n",
      "avg / total       0.73      0.75      0.73      6979\n",
      "\n"
     ]
    }
   ],
   "source": [
    "print(\"[INFO] training Linear SVM classifier...\")\n",
    "model = RandomForestClassifier(random_state=0)\n",
    "model.fit(X_train, y_train)\n",
    " \n",
    "# evaluate the classifier\n",
    "print(\"[INFO] evaluating classifier...\")\n",
    "predictions = model.predict(X_eval)\n",
    "print(classification_report(y_eval, predictions))"
   ]
  },
  {
   "cell_type": "code",
   "execution_count": 120,
   "metadata": {},
   "outputs": [
    {
     "data": {
      "text/html": [
       "<div>\n",
       "<style>\n",
       "    .dataframe thead tr:only-child th {\n",
       "        text-align: right;\n",
       "    }\n",
       "\n",
       "    .dataframe thead th {\n",
       "        text-align: left;\n",
       "    }\n",
       "\n",
       "    .dataframe tbody tr th {\n",
       "        vertical-align: top;\n",
       "    }\n",
       "</style>\n",
       "<table border=\"1\" class=\"dataframe\">\n",
       "  <thead>\n",
       "    <tr style=\"text-align: right;\">\n",
       "      <th></th>\n",
       "      <th>0</th>\n",
       "    </tr>\n",
       "  </thead>\n",
       "  <tbody>\n",
       "    <tr>\n",
       "      <th>5</th>\n",
       "      <td>0.219181</td>\n",
       "    </tr>\n",
       "    <tr>\n",
       "      <th>93</th>\n",
       "      <td>0.086343</td>\n",
       "    </tr>\n",
       "    <tr>\n",
       "      <th>4</th>\n",
       "      <td>0.073693</td>\n",
       "    </tr>\n",
       "    <tr>\n",
       "      <th>0</th>\n",
       "      <td>0.046088</td>\n",
       "    </tr>\n",
       "    <tr>\n",
       "      <th>17</th>\n",
       "      <td>0.045981</td>\n",
       "    </tr>\n",
       "    <tr>\n",
       "      <th>2</th>\n",
       "      <td>0.045284</td>\n",
       "    </tr>\n",
       "    <tr>\n",
       "      <th>3</th>\n",
       "      <td>0.039459</td>\n",
       "    </tr>\n",
       "    <tr>\n",
       "      <th>83</th>\n",
       "      <td>0.028552</td>\n",
       "    </tr>\n",
       "    <tr>\n",
       "      <th>21</th>\n",
       "      <td>0.019742</td>\n",
       "    </tr>\n",
       "    <tr>\n",
       "      <th>20</th>\n",
       "      <td>0.019161</td>\n",
       "    </tr>\n",
       "    <tr>\n",
       "      <th>91</th>\n",
       "      <td>0.015790</td>\n",
       "    </tr>\n",
       "    <tr>\n",
       "      <th>51</th>\n",
       "      <td>0.015714</td>\n",
       "    </tr>\n",
       "    <tr>\n",
       "      <th>34</th>\n",
       "      <td>0.013104</td>\n",
       "    </tr>\n",
       "    <tr>\n",
       "      <th>82</th>\n",
       "      <td>0.013064</td>\n",
       "    </tr>\n",
       "    <tr>\n",
       "      <th>36</th>\n",
       "      <td>0.012913</td>\n",
       "    </tr>\n",
       "    <tr>\n",
       "      <th>1</th>\n",
       "      <td>0.012335</td>\n",
       "    </tr>\n",
       "    <tr>\n",
       "      <th>52</th>\n",
       "      <td>0.010845</td>\n",
       "    </tr>\n",
       "    <tr>\n",
       "      <th>37</th>\n",
       "      <td>0.009808</td>\n",
       "    </tr>\n",
       "    <tr>\n",
       "      <th>54</th>\n",
       "      <td>0.008967</td>\n",
       "    </tr>\n",
       "    <tr>\n",
       "      <th>13</th>\n",
       "      <td>0.008639</td>\n",
       "    </tr>\n",
       "    <tr>\n",
       "      <th>89</th>\n",
       "      <td>0.008048</td>\n",
       "    </tr>\n",
       "    <tr>\n",
       "      <th>16</th>\n",
       "      <td>0.008008</td>\n",
       "    </tr>\n",
       "    <tr>\n",
       "      <th>12</th>\n",
       "      <td>0.007881</td>\n",
       "    </tr>\n",
       "    <tr>\n",
       "      <th>19</th>\n",
       "      <td>0.007679</td>\n",
       "    </tr>\n",
       "    <tr>\n",
       "      <th>84</th>\n",
       "      <td>0.007664</td>\n",
       "    </tr>\n",
       "    <tr>\n",
       "      <th>15</th>\n",
       "      <td>0.007489</td>\n",
       "    </tr>\n",
       "    <tr>\n",
       "      <th>53</th>\n",
       "      <td>0.007368</td>\n",
       "    </tr>\n",
       "    <tr>\n",
       "      <th>73</th>\n",
       "      <td>0.007311</td>\n",
       "    </tr>\n",
       "    <tr>\n",
       "      <th>61</th>\n",
       "      <td>0.007075</td>\n",
       "    </tr>\n",
       "    <tr>\n",
       "      <th>74</th>\n",
       "      <td>0.007074</td>\n",
       "    </tr>\n",
       "    <tr>\n",
       "      <th>...</th>\n",
       "      <td>...</td>\n",
       "    </tr>\n",
       "    <tr>\n",
       "      <th>26</th>\n",
       "      <td>0.002153</td>\n",
       "    </tr>\n",
       "    <tr>\n",
       "      <th>42</th>\n",
       "      <td>0.002130</td>\n",
       "    </tr>\n",
       "    <tr>\n",
       "      <th>41</th>\n",
       "      <td>0.002126</td>\n",
       "    </tr>\n",
       "    <tr>\n",
       "      <th>57</th>\n",
       "      <td>0.002042</td>\n",
       "    </tr>\n",
       "    <tr>\n",
       "      <th>77</th>\n",
       "      <td>0.001891</td>\n",
       "    </tr>\n",
       "    <tr>\n",
       "      <th>59</th>\n",
       "      <td>0.001480</td>\n",
       "    </tr>\n",
       "    <tr>\n",
       "      <th>56</th>\n",
       "      <td>0.001329</td>\n",
       "    </tr>\n",
       "    <tr>\n",
       "      <th>76</th>\n",
       "      <td>0.001312</td>\n",
       "    </tr>\n",
       "    <tr>\n",
       "      <th>58</th>\n",
       "      <td>0.001265</td>\n",
       "    </tr>\n",
       "    <tr>\n",
       "      <th>78</th>\n",
       "      <td>0.001230</td>\n",
       "    </tr>\n",
       "    <tr>\n",
       "      <th>55</th>\n",
       "      <td>0.001215</td>\n",
       "    </tr>\n",
       "    <tr>\n",
       "      <th>38</th>\n",
       "      <td>0.001129</td>\n",
       "    </tr>\n",
       "    <tr>\n",
       "      <th>64</th>\n",
       "      <td>0.001089</td>\n",
       "    </tr>\n",
       "    <tr>\n",
       "      <th>71</th>\n",
       "      <td>0.001011</td>\n",
       "    </tr>\n",
       "    <tr>\n",
       "      <th>63</th>\n",
       "      <td>0.000970</td>\n",
       "    </tr>\n",
       "    <tr>\n",
       "      <th>65</th>\n",
       "      <td>0.000881</td>\n",
       "    </tr>\n",
       "    <tr>\n",
       "      <th>18</th>\n",
       "      <td>0.000776</td>\n",
       "    </tr>\n",
       "    <tr>\n",
       "      <th>33</th>\n",
       "      <td>0.000491</td>\n",
       "    </tr>\n",
       "    <tr>\n",
       "      <th>40</th>\n",
       "      <td>0.000457</td>\n",
       "    </tr>\n",
       "    <tr>\n",
       "      <th>39</th>\n",
       "      <td>0.000394</td>\n",
       "    </tr>\n",
       "    <tr>\n",
       "      <th>80</th>\n",
       "      <td>0.000301</td>\n",
       "    </tr>\n",
       "    <tr>\n",
       "      <th>88</th>\n",
       "      <td>0.000212</td>\n",
       "    </tr>\n",
       "    <tr>\n",
       "      <th>95</th>\n",
       "      <td>0.000189</td>\n",
       "    </tr>\n",
       "    <tr>\n",
       "      <th>87</th>\n",
       "      <td>0.000177</td>\n",
       "    </tr>\n",
       "    <tr>\n",
       "      <th>94</th>\n",
       "      <td>0.000144</td>\n",
       "    </tr>\n",
       "    <tr>\n",
       "      <th>79</th>\n",
       "      <td>0.000142</td>\n",
       "    </tr>\n",
       "    <tr>\n",
       "      <th>81</th>\n",
       "      <td>0.000135</td>\n",
       "    </tr>\n",
       "    <tr>\n",
       "      <th>85</th>\n",
       "      <td>0.000097</td>\n",
       "    </tr>\n",
       "    <tr>\n",
       "      <th>86</th>\n",
       "      <td>0.000034</td>\n",
       "    </tr>\n",
       "    <tr>\n",
       "      <th>72</th>\n",
       "      <td>0.000034</td>\n",
       "    </tr>\n",
       "  </tbody>\n",
       "</table>\n",
       "<p>96 rows × 1 columns</p>\n",
       "</div>"
      ],
      "text/plain": [
       "           0\n",
       "5   0.219181\n",
       "93  0.086343\n",
       "4   0.073693\n",
       "0   0.046088\n",
       "17  0.045981\n",
       "2   0.045284\n",
       "3   0.039459\n",
       "83  0.028552\n",
       "21  0.019742\n",
       "20  0.019161\n",
       "91  0.015790\n",
       "51  0.015714\n",
       "34  0.013104\n",
       "82  0.013064\n",
       "36  0.012913\n",
       "1   0.012335\n",
       "52  0.010845\n",
       "37  0.009808\n",
       "54  0.008967\n",
       "13  0.008639\n",
       "89  0.008048\n",
       "16  0.008008\n",
       "12  0.007881\n",
       "19  0.007679\n",
       "84  0.007664\n",
       "15  0.007489\n",
       "53  0.007368\n",
       "73  0.007311\n",
       "61  0.007075\n",
       "74  0.007074\n",
       "..       ...\n",
       "26  0.002153\n",
       "42  0.002130\n",
       "41  0.002126\n",
       "57  0.002042\n",
       "77  0.001891\n",
       "59  0.001480\n",
       "56  0.001329\n",
       "76  0.001312\n",
       "58  0.001265\n",
       "78  0.001230\n",
       "55  0.001215\n",
       "38  0.001129\n",
       "64  0.001089\n",
       "71  0.001011\n",
       "63  0.000970\n",
       "65  0.000881\n",
       "18  0.000776\n",
       "33  0.000491\n",
       "40  0.000457\n",
       "39  0.000394\n",
       "80  0.000301\n",
       "88  0.000212\n",
       "95  0.000189\n",
       "87  0.000177\n",
       "94  0.000144\n",
       "79  0.000142\n",
       "81  0.000135\n",
       "85  0.000097\n",
       "86  0.000034\n",
       "72  0.000034\n",
       "\n",
       "[96 rows x 1 columns]"
      ]
     },
     "execution_count": 120,
     "metadata": {},
     "output_type": "execute_result"
    }
   ],
   "source": [
    "pd.DataFrame(model.feature_importances_).sort_values(0, ascending=False)"
   ]
  },
  {
   "cell_type": "code",
   "execution_count": 93,
   "metadata": {
    "collapsed": true
   },
   "outputs": [],
   "source": [
    "from sklearn.linear_model import SGDClassifier, Perceptron\n",
    "from sklearn.linear_model import PassiveAggressiveClassifier\n",
    "from sklearn.linear_model import LogisticRegression"
   ]
  },
  {
   "cell_type": "code",
   "execution_count": 104,
   "metadata": {},
   "outputs": [
    {
     "name": "stdout",
     "output_type": "stream",
     "text": [
      "[INFO] training Linear SVM classifier...\n",
      "[INFO] evaluating classifier...\n",
      "             precision    recall  f1-score   support\n",
      "\n",
      "          0       0.79      0.91      0.85      4923\n",
      "          1       0.66      0.43      0.52      2056\n",
      "\n",
      "avg / total       0.75      0.77      0.75      6979\n",
      "\n"
     ]
    }
   ],
   "source": [
    "print(\"[INFO] training Linear SVM classifier...\")\n",
    "model = LogisticRegression(penalty='l2')\n",
    "model.fit(X_train_reduced, y_train)\n",
    " \n",
    "# evaluate the classifier\n",
    "print(\"[INFO] evaluating classifier...\")\n",
    "predictions = model.predict(X_eval_reduced)\n",
    "print(classification_report(y_eval, predictions))"
   ]
  },
  {
   "cell_type": "code",
   "execution_count": 97,
   "metadata": {},
   "outputs": [
    {
     "name": "stdout",
     "output_type": "stream",
     "text": [
      "training SGD\n",
      "training ASGD\n",
      "training Perceptron\n",
      "training Passive-Aggressive I\n",
      "training Passive-Aggressive II\n",
      "training SAG\n"
     ]
    },
    {
     "data": {
      "image/png": "[encoded data removed]",
      "text/plain": [
       "<matplotlib.figure.Figure at 0x8366008358>"
      ]
     },
     "metadata": {},
     "output_type": "display_data"
    }
   ],
   "source": [
    "classifiers = [\n",
    "    (\"SGD\", SGDClassifier()),\n",
    "    (\"ASGD\", SGDClassifier(average=True)),\n",
    "    (\"Perceptron\", Perceptron()),\n",
    "    (\"Passive-Aggressive I\", PassiveAggressiveClassifier(loss='hinge',\n",
    "                                                         C=1.0)),\n",
    "    (\"Passive-Aggressive II\", PassiveAggressiveClassifier(loss='squared_hinge',\n",
    "                                                          C=1.0)),\n",
    "    (\"SAG\", LogisticRegression(solver='sag', tol=1e-1, C=1.e4 / X.shape[0]))\n",
    "]\n",
    "heldout = [0.95, 0.90, 0.75, 0.50, 0.01]\n",
    "rounds = 20\n",
    "xx = 1. - np.array(heldout)\n",
    "\n",
    "for name, clf in classifiers:\n",
    "    print(\"training %s\" % name)\n",
    "    rng = np.random.RandomState(42)\n",
    "    yy = []\n",
    "    for i in heldout:\n",
    "        yy_ = []\n",
    "        for r in range(rounds):\n",
    "            clf.fit(X_train_reduced, y_train)\n",
    "            y_pred = clf.predict(X_eval_reduced)\n",
    "            yy_.append(1 - np.mean(y_pred == y_eval))\n",
    "        yy.append(np.mean(yy_))\n",
    "    plt.plot(xx, yy, label=name)\n",
    "\n",
    "plt.legend(loc=\"upper right\")\n",
    "plt.xlabel(\"Proportion train\")\n",
    "plt.ylabel(\"Test Error Rate\")\n",
    "plt.show()"
   ]
  },
  {
   "cell_type": "code",
   "execution_count": 100,
   "metadata": {},
   "outputs": [
    {
     "name": "stdout",
     "output_type": "stream",
     "text": [
      "[INFO] evaluating classifier...\n",
      "             precision    recall  f1-score   support\n",
      "\n",
      "          0       0.80      0.91      0.85      4923\n",
      "          1       0.67      0.45      0.53      2056\n",
      "\n",
      "avg / total       0.76      0.77      0.76      6979\n",
      "\n"
     ]
    }
   ],
   "source": [
    "from sklearn.neural_network import MLPClassifier\n",
    "model = MLPClassifier(solver='lbfgs', alpha=1e-5, hidden_layer_sizes=(10, 2), random_state=1)\n",
    "model.fit(X_train, y_train)\n",
    " \n",
    "# evaluate the classifier\n",
    "print(\"[INFO] evaluating classifier...\")\n",
    "predictions = model.predict(X_eval)\n",
    "print(classification_report(y_eval, predictions))"
   ]
  },
  {
   "cell_type": "code",
   "execution_count": null,
   "metadata": {
    "collapsed": true
   },
   "outputs": [],
   "source": []
  }
 ],
 "metadata": {
  "kernelspec": {
   "display_name": "Python 3",
   "language": "python",
   "name": "python3"
  },
  "language_info": {
   "codemirror_mode": {
    "name": "ipython",
    "version": 3
   },
   "file_extension": ".py",
   "mimetype": "text/x-python",
   "name": "python",
   "nbconvert_exporter": "python",
   "pygments_lexer": "ipython3",
   "version": "3.5.3"
  }
 },
 "nbformat": 4,
 "nbformat_minor": 2
}
